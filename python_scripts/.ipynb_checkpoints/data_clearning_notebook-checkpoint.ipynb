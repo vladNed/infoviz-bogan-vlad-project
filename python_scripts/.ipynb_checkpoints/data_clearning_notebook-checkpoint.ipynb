{
 "cells": [
  {
   "cell_type": "code",
   "execution_count": 3,
   "id": "d17ce037",
   "metadata": {},
   "outputs": [],
   "source": [
    "import pandas as pd"
   ]
  },
  {
   "cell_type": "code",
   "execution_count": 6,
   "id": "9b05c6fe",
   "metadata": {},
   "outputs": [],
   "source": [
    "nyc_path = '../datasets/NYC_AIRBNB.csv'\n",
    "boston_path = '../datasets/BOSTON_LISTING.csv'"
   ]
  },
  {
   "cell_type": "code",
   "execution_count": 7,
   "id": "914abe2b",
   "metadata": {},
   "outputs": [],
   "source": [
    "nyc_df = pd.read_csv(nyc_path)\n",
    "bostson_df = pd.read_csv(boston_path)"
   ]
  },
  {
   "cell_type": "code",
   "execution_count": null,
   "id": "859ea07a",
   "metadata": {},
   "outputs": [],
   "source": []
  }
 ],
 "metadata": {
  "kernelspec": {
   "display_name": "Python 3",
   "language": "python",
   "name": "python3"
  },
  "language_info": {
   "codemirror_mode": {
    "name": "ipython",
    "version": 3
   },
   "file_extension": ".py",
   "mimetype": "text/x-python",
   "name": "python",
   "nbconvert_exporter": "python",
   "pygments_lexer": "ipython3",
   "version": "3.8.5"
  }
 },
 "nbformat": 4,
 "nbformat_minor": 5
}
