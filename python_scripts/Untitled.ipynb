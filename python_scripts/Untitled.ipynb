{
 "cells": [
  {
   "cell_type": "code",
   "execution_count": 1,
   "id": "7a9d1149",
   "metadata": {},
   "outputs": [],
   "source": [
    "import pandas as pd\n",
    "import string"
   ]
  },
  {
   "cell_type": "code",
   "execution_count": 2,
   "id": "98e181d7",
   "metadata": {},
   "outputs": [],
   "source": [
    "nyc_path = '../clean_datasets/NYC_CLEAN.csv'\n",
    "boston_path = '../clean_datasets/BOSTON_CLEAN.csv'"
   ]
  },
  {
   "cell_type": "code",
   "execution_count": 3,
   "id": "55489976",
   "metadata": {},
   "outputs": [],
   "source": [
    "nyc_df = pd.read_csv(nyc_path)\n",
    "boston_df = pd.read_csv(boston_path)"
   ]
  },
  {
   "cell_type": "code",
   "execution_count": 26,
   "id": "c22ab0e2",
   "metadata": {},
   "outputs": [
    {
     "data": {
      "text/plain": [
       "Index(['Unnamed: 0', 'id', 'host_id', 'neighbourhood_group', 'neighbourhood',\n",
       "       'latitude', 'longitude', 'room_type', 'price', 'minimum_nights',\n",
       "       'number_of_reviews', 'calculated_host_listings_count',\n",
       "       'availability_365', 'room_type_cat', 'neighbourhood_cat',\n",
       "       'neighbourhood_group_cat'],\n",
       "      dtype='object')"
      ]
     },
     "execution_count": 26,
     "metadata": {},
     "output_type": "execute_result"
    }
   ],
   "source": [
    "nyc_df.columns"
   ]
  },
  {
   "cell_type": "code",
   "execution_count": 5,
   "id": "f79483e2",
   "metadata": {},
   "outputs": [
    {
     "data": {
      "text/plain": [
       "'!\"#$%&\\'()*+,-./:;<=>?@[\\\\]^_`{|}~'"
      ]
     },
     "execution_count": 5,
     "metadata": {},
     "output_type": "execute_result"
    }
   ],
   "source": [
    "string.punctuation"
   ]
  },
  {
   "cell_type": "code",
   "execution_count": 22,
   "id": "d358a281",
   "metadata": {},
   "outputs": [],
   "source": [
    "boston_dataset = boston_df[[\"bathrooms\",\"bedrooms\", \"beds\", \"bed_type\", \"price\", \"cleaning_fee\", \"availability_365\", \n",
    "                            \"number_of_reviews\", \"latitude\", \"longitude\", \"property_type\", \"room_type\",\n",
    "                            \"neighbourhood_cleansed\", \"minimum_nights\", \"maximum_nights\"]]"
   ]
  },
  {
   "cell_type": "code",
   "execution_count": 23,
   "id": "a06a00a5",
   "metadata": {},
   "outputs": [],
   "source": [
    "nyc_dataset = nyc_df[[\"price\", \"number_of_reviews\", \"latitude\", \"longitude\", \"room_type\",\n",
    "    \"neighbourhood_group\", \"minimum_nights\", \"availability_365\"]]"
   ]
  },
  {
   "cell_type": "code",
   "execution_count": 24,
   "id": "43ecdbd5",
   "metadata": {},
   "outputs": [
    {
     "data": {
      "text/plain": [
       "bathrooms                    0\n",
       "bedrooms                     0\n",
       "beds                         0\n",
       "bed_type                     0\n",
       "price                        0\n",
       "cleaning_fee              1107\n",
       "availability_365             0\n",
       "number_of_reviews            0\n",
       "latitude                     0\n",
       "longitude                    0\n",
       "property_type                0\n",
       "room_type                    0\n",
       "neighbourhood_cleansed       0\n",
       "minimum_nights               0\n",
       "maximum_nights               0\n",
       "dtype: int64"
      ]
     },
     "execution_count": 24,
     "metadata": {},
     "output_type": "execute_result"
    }
   ],
   "source": [
    "boston_dataset.isna().sum()"
   ]
  },
  {
   "cell_type": "code",
   "execution_count": 8,
   "id": "de8de436",
   "metadata": {},
   "outputs": [],
   "source": [
    "boston_dataset = pd.DataFrame(boston_dataset)"
   ]
  },
  {
   "cell_type": "code",
   "execution_count": 9,
   "id": "5d1d7ff5",
   "metadata": {},
   "outputs": [],
   "source": [
    "boston_dataset[\"cleaning_fee\"] = boston_dataset[\"cleaning_fee\"].apply(lambda x: remove_stuff(x) if isinstance(x, str) else x).fillna(68)"
   ]
  },
  {
   "cell_type": "code",
   "execution_count": 10,
   "id": "d52e5b50",
   "metadata": {},
   "outputs": [],
   "source": [
    "def remove_stuff(value: str):\n",
    "    word = []\n",
    "    value = value.replace(\"$\", \"\")\n",
    "    for c in value:\n",
    "        if not c.isalpha():\n",
    "            word.append(c)\n",
    "    try:\n",
    "        new_value = float(''.join(word))\n",
    "    except ValueError:\n",
    "        return 0\n",
    "    return float(''.join(word))\n",
    "\n",
    "def check_availability(value: str):\n",
    "    try:\n",
    "        return int(value)\n",
    "    except ValueError:\n",
    "        return 1"
   ]
  },
  {
   "cell_type": "code",
   "execution_count": 11,
   "id": "e1b4016a",
   "metadata": {},
   "outputs": [],
   "source": [
    "boston_dataset['availability_30'] = boston_dataset['availability_30'].apply(lambda x: check_availability(x) if isinstance(x, str) else x).fillna(1)"
   ]
  },
  {
   "cell_type": "code",
   "execution_count": 14,
   "id": "1ec8e653",
   "metadata": {},
   "outputs": [],
   "source": [
    "boston_dataset.to_csv('./BOSTON_CLEANER.csv')"
   ]
  },
  {
   "cell_type": "code",
   "execution_count": 15,
   "id": "babd60d6",
   "metadata": {},
   "outputs": [
    {
     "data": {
      "text/html": [
       "<div>\n",
       "<style scoped>\n",
       "    .dataframe tbody tr th:only-of-type {\n",
       "        vertical-align: middle;\n",
       "    }\n",
       "\n",
       "    .dataframe tbody tr th {\n",
       "        vertical-align: top;\n",
       "    }\n",
       "\n",
       "    .dataframe thead th {\n",
       "        text-align: right;\n",
       "    }\n",
       "</style>\n",
       "<table border=\"1\" class=\"dataframe\">\n",
       "  <thead>\n",
       "    <tr style=\"text-align: right;\">\n",
       "      <th></th>\n",
       "      <th>bathrooms</th>\n",
       "      <th>bedrooms</th>\n",
       "      <th>beds</th>\n",
       "      <th>bed_type</th>\n",
       "      <th>price</th>\n",
       "      <th>cleaning_fee</th>\n",
       "      <th>availability_30</th>\n",
       "      <th>availability_90</th>\n",
       "      <th>number_of_reviews</th>\n",
       "      <th>latitude</th>\n",
       "      <th>longitude</th>\n",
       "      <th>property_type</th>\n",
       "      <th>room_type</th>\n",
       "      <th>neighbourhood_cleansed</th>\n",
       "      <th>minimum_nights</th>\n",
       "      <th>maximum_nights</th>\n",
       "    </tr>\n",
       "  </thead>\n",
       "  <tbody>\n",
       "    <tr>\n",
       "      <th>0</th>\n",
       "      <td>1.5</td>\n",
       "      <td>2.0</td>\n",
       "      <td>3.0</td>\n",
       "      <td>Real Bed</td>\n",
       "      <td>250.0</td>\n",
       "      <td>35.0</td>\n",
       "      <td>0</td>\n",
       "      <td>0</td>\n",
       "      <td>0</td>\n",
       "      <td>42.282619</td>\n",
       "      <td>-71.133068</td>\n",
       "      <td>House</td>\n",
       "      <td>Entire home/apt</td>\n",
       "      <td>Roslindale</td>\n",
       "      <td>2</td>\n",
       "      <td>1125</td>\n",
       "    </tr>\n",
       "    <tr>\n",
       "      <th>1</th>\n",
       "      <td>1.0</td>\n",
       "      <td>1.0</td>\n",
       "      <td>1.0</td>\n",
       "      <td>Real Bed</td>\n",
       "      <td>65.0</td>\n",
       "      <td>10.0</td>\n",
       "      <td>26</td>\n",
       "      <td>84</td>\n",
       "      <td>36</td>\n",
       "      <td>42.286241</td>\n",
       "      <td>-71.134374</td>\n",
       "      <td>Apartment</td>\n",
       "      <td>Private room</td>\n",
       "      <td>Roslindale</td>\n",
       "      <td>2</td>\n",
       "      <td>15</td>\n",
       "    </tr>\n",
       "    <tr>\n",
       "      <th>2</th>\n",
       "      <td>1.0</td>\n",
       "      <td>1.0</td>\n",
       "      <td>1.0</td>\n",
       "      <td>Real Bed</td>\n",
       "      <td>65.0</td>\n",
       "      <td>68.0</td>\n",
       "      <td>19</td>\n",
       "      <td>61</td>\n",
       "      <td>41</td>\n",
       "      <td>42.292438</td>\n",
       "      <td>-71.135765</td>\n",
       "      <td>Apartment</td>\n",
       "      <td>Private room</td>\n",
       "      <td>Roslindale</td>\n",
       "      <td>3</td>\n",
       "      <td>45</td>\n",
       "    </tr>\n",
       "    <tr>\n",
       "      <th>3</th>\n",
       "      <td>1.0</td>\n",
       "      <td>1.0</td>\n",
       "      <td>2.0</td>\n",
       "      <td>Real Bed</td>\n",
       "      <td>75.0</td>\n",
       "      <td>50.0</td>\n",
       "      <td>6</td>\n",
       "      <td>26</td>\n",
       "      <td>1</td>\n",
       "      <td>42.281106</td>\n",
       "      <td>-71.121021</td>\n",
       "      <td>House</td>\n",
       "      <td>Private room</td>\n",
       "      <td>Roslindale</td>\n",
       "      <td>1</td>\n",
       "      <td>1125</td>\n",
       "    </tr>\n",
       "    <tr>\n",
       "      <th>4</th>\n",
       "      <td>1.5</td>\n",
       "      <td>1.0</td>\n",
       "      <td>2.0</td>\n",
       "      <td>Real Bed</td>\n",
       "      <td>79.0</td>\n",
       "      <td>15.0</td>\n",
       "      <td>13</td>\n",
       "      <td>59</td>\n",
       "      <td>29</td>\n",
       "      <td>42.284512</td>\n",
       "      <td>-71.136258</td>\n",
       "      <td>House</td>\n",
       "      <td>Private room</td>\n",
       "      <td>Roslindale</td>\n",
       "      <td>2</td>\n",
       "      <td>31</td>\n",
       "    </tr>\n",
       "  </tbody>\n",
       "</table>\n",
       "</div>"
      ],
      "text/plain": [
       "   bathrooms  bedrooms  beds  bed_type  price  cleaning_fee  availability_30  \\\n",
       "0        1.5       2.0   3.0  Real Bed  250.0          35.0                0   \n",
       "1        1.0       1.0   1.0  Real Bed   65.0          10.0               26   \n",
       "2        1.0       1.0   1.0  Real Bed   65.0          68.0               19   \n",
       "3        1.0       1.0   2.0  Real Bed   75.0          50.0                6   \n",
       "4        1.5       1.0   2.0  Real Bed   79.0          15.0               13   \n",
       "\n",
       "   availability_90  number_of_reviews   latitude  longitude property_type  \\\n",
       "0                0                  0  42.282619 -71.133068         House   \n",
       "1               84                 36  42.286241 -71.134374     Apartment   \n",
       "2               61                 41  42.292438 -71.135765     Apartment   \n",
       "3               26                  1  42.281106 -71.121021         House   \n",
       "4               59                 29  42.284512 -71.136258         House   \n",
       "\n",
       "         room_type neighbourhood_cleansed  minimum_nights  maximum_nights  \n",
       "0  Entire home/apt             Roslindale               2            1125  \n",
       "1     Private room             Roslindale               2              15  \n",
       "2     Private room             Roslindale               3              45  \n",
       "3     Private room             Roslindale               1            1125  \n",
       "4     Private room             Roslindale               2              31  "
      ]
     },
     "execution_count": 15,
     "metadata": {},
     "output_type": "execute_result"
    }
   ],
   "source": [
    "boston_dataset.head()"
   ]
  },
  {
   "cell_type": "code",
   "execution_count": 28,
   "id": "e65cf476",
   "metadata": {},
   "outputs": [],
   "source": [
    "a = pd.get_dummies(boston_dataset, columns=[\"property_type\", \"room_type\", \"neighbourhood_cleansed\", \"bed_type\"])"
   ]
  },
  {
   "cell_type": "code",
   "execution_count": 25,
   "id": "8cf34e7c",
   "metadata": {},
   "outputs": [
    {
     "data": {
      "text/html": [
       "<div>\n",
       "<style scoped>\n",
       "    .dataframe tbody tr th:only-of-type {\n",
       "        vertical-align: middle;\n",
       "    }\n",
       "\n",
       "    .dataframe tbody tr th {\n",
       "        vertical-align: top;\n",
       "    }\n",
       "\n",
       "    .dataframe thead th {\n",
       "        text-align: right;\n",
       "    }\n",
       "</style>\n",
       "<table border=\"1\" class=\"dataframe\">\n",
       "  <thead>\n",
       "    <tr style=\"text-align: right;\">\n",
       "      <th></th>\n",
       "      <th>price</th>\n",
       "      <th>number_of_reviews</th>\n",
       "      <th>latitude</th>\n",
       "      <th>longitude</th>\n",
       "      <th>room_type</th>\n",
       "      <th>neighbourhood_group</th>\n",
       "      <th>minimum_nights</th>\n",
       "      <th>availability_365</th>\n",
       "    </tr>\n",
       "  </thead>\n",
       "  <tbody>\n",
       "    <tr>\n",
       "      <th>0</th>\n",
       "      <td>149</td>\n",
       "      <td>9</td>\n",
       "      <td>40.64749</td>\n",
       "      <td>-73.97237</td>\n",
       "      <td>Private room</td>\n",
       "      <td>Brooklyn</td>\n",
       "      <td>1</td>\n",
       "      <td>365</td>\n",
       "    </tr>\n",
       "    <tr>\n",
       "      <th>1</th>\n",
       "      <td>225</td>\n",
       "      <td>45</td>\n",
       "      <td>40.75362</td>\n",
       "      <td>-73.98377</td>\n",
       "      <td>Entire home/apt</td>\n",
       "      <td>Manhattan</td>\n",
       "      <td>1</td>\n",
       "      <td>355</td>\n",
       "    </tr>\n",
       "    <tr>\n",
       "      <th>2</th>\n",
       "      <td>150</td>\n",
       "      <td>0</td>\n",
       "      <td>40.80902</td>\n",
       "      <td>-73.94190</td>\n",
       "      <td>Private room</td>\n",
       "      <td>Manhattan</td>\n",
       "      <td>3</td>\n",
       "      <td>365</td>\n",
       "    </tr>\n",
       "    <tr>\n",
       "      <th>3</th>\n",
       "      <td>89</td>\n",
       "      <td>270</td>\n",
       "      <td>40.68514</td>\n",
       "      <td>-73.95976</td>\n",
       "      <td>Entire home/apt</td>\n",
       "      <td>Brooklyn</td>\n",
       "      <td>1</td>\n",
       "      <td>194</td>\n",
       "    </tr>\n",
       "    <tr>\n",
       "      <th>4</th>\n",
       "      <td>80</td>\n",
       "      <td>9</td>\n",
       "      <td>40.79851</td>\n",
       "      <td>-73.94399</td>\n",
       "      <td>Entire home/apt</td>\n",
       "      <td>Manhattan</td>\n",
       "      <td>10</td>\n",
       "      <td>0</td>\n",
       "    </tr>\n",
       "    <tr>\n",
       "      <th>...</th>\n",
       "      <td>...</td>\n",
       "      <td>...</td>\n",
       "      <td>...</td>\n",
       "      <td>...</td>\n",
       "      <td>...</td>\n",
       "      <td>...</td>\n",
       "      <td>...</td>\n",
       "      <td>...</td>\n",
       "    </tr>\n",
       "    <tr>\n",
       "      <th>48890</th>\n",
       "      <td>70</td>\n",
       "      <td>0</td>\n",
       "      <td>40.67853</td>\n",
       "      <td>-73.94995</td>\n",
       "      <td>Private room</td>\n",
       "      <td>Brooklyn</td>\n",
       "      <td>2</td>\n",
       "      <td>9</td>\n",
       "    </tr>\n",
       "    <tr>\n",
       "      <th>48891</th>\n",
       "      <td>40</td>\n",
       "      <td>0</td>\n",
       "      <td>40.70184</td>\n",
       "      <td>-73.93317</td>\n",
       "      <td>Private room</td>\n",
       "      <td>Brooklyn</td>\n",
       "      <td>4</td>\n",
       "      <td>36</td>\n",
       "    </tr>\n",
       "    <tr>\n",
       "      <th>48892</th>\n",
       "      <td>115</td>\n",
       "      <td>0</td>\n",
       "      <td>40.81475</td>\n",
       "      <td>-73.94867</td>\n",
       "      <td>Entire home/apt</td>\n",
       "      <td>Manhattan</td>\n",
       "      <td>10</td>\n",
       "      <td>27</td>\n",
       "    </tr>\n",
       "    <tr>\n",
       "      <th>48893</th>\n",
       "      <td>55</td>\n",
       "      <td>0</td>\n",
       "      <td>40.75751</td>\n",
       "      <td>-73.99112</td>\n",
       "      <td>Shared room</td>\n",
       "      <td>Manhattan</td>\n",
       "      <td>1</td>\n",
       "      <td>2</td>\n",
       "    </tr>\n",
       "    <tr>\n",
       "      <th>48894</th>\n",
       "      <td>90</td>\n",
       "      <td>0</td>\n",
       "      <td>40.76404</td>\n",
       "      <td>-73.98933</td>\n",
       "      <td>Private room</td>\n",
       "      <td>Manhattan</td>\n",
       "      <td>7</td>\n",
       "      <td>23</td>\n",
       "    </tr>\n",
       "  </tbody>\n",
       "</table>\n",
       "<p>48895 rows × 8 columns</p>\n",
       "</div>"
      ],
      "text/plain": [
       "       price  number_of_reviews  latitude  longitude        room_type  \\\n",
       "0        149                  9  40.64749  -73.97237     Private room   \n",
       "1        225                 45  40.75362  -73.98377  Entire home/apt   \n",
       "2        150                  0  40.80902  -73.94190     Private room   \n",
       "3         89                270  40.68514  -73.95976  Entire home/apt   \n",
       "4         80                  9  40.79851  -73.94399  Entire home/apt   \n",
       "...      ...                ...       ...        ...              ...   \n",
       "48890     70                  0  40.67853  -73.94995     Private room   \n",
       "48891     40                  0  40.70184  -73.93317     Private room   \n",
       "48892    115                  0  40.81475  -73.94867  Entire home/apt   \n",
       "48893     55                  0  40.75751  -73.99112      Shared room   \n",
       "48894     90                  0  40.76404  -73.98933     Private room   \n",
       "\n",
       "      neighbourhood_group  minimum_nights  availability_365  \n",
       "0                Brooklyn               1               365  \n",
       "1               Manhattan               1               355  \n",
       "2               Manhattan               3               365  \n",
       "3                Brooklyn               1               194  \n",
       "4               Manhattan              10                 0  \n",
       "...                   ...             ...               ...  \n",
       "48890            Brooklyn               2                 9  \n",
       "48891            Brooklyn               4                36  \n",
       "48892           Manhattan              10                27  \n",
       "48893           Manhattan               1                 2  \n",
       "48894           Manhattan               7                23  \n",
       "\n",
       "[48895 rows x 8 columns]"
      ]
     },
     "execution_count": 25,
     "metadata": {},
     "output_type": "execute_result"
    }
   ],
   "source": [
    "nyc_dataset"
   ]
  },
  {
   "cell_type": "code",
   "execution_count": 38,
   "id": "23731afd",
   "metadata": {},
   "outputs": [],
   "source": [
    "def calculate_labels(price):\n",
    "    if price < 100:\n",
    "        return 0\n",
    "    elif price > 100 and price < 200:\n",
    "        return 1\n",
    "    elif price > 200 and price < 300:\n",
    "        return 2\n",
    "    elif price > 300:\n",
    "        return 3\n",
    "    else:\n",
    "        return 3"
   ]
  },
  {
   "cell_type": "code",
   "execution_count": 39,
   "id": "50f3c7ff",
   "metadata": {},
   "outputs": [],
   "source": [
    "a[\"labels\"] = a[\"price\"].apply(lambda x: calculate_labels(x))"
   ]
  },
  {
   "cell_type": "code",
   "execution_count": 40,
   "id": "ab44caca",
   "metadata": {},
   "outputs": [],
   "source": [
    "a.to_csv(\"../clean_datasets/boston_data.csv\")"
   ]
  },
  {
   "cell_type": "code",
   "execution_count": 45,
   "id": "07b5a48e",
   "metadata": {},
   "outputs": [],
   "source": [
    "a['cleaning_fee'] = a[\"cleaning_fee\"].fillna(68)"
   ]
  },
  {
   "cell_type": "code",
   "execution_count": 63,
   "id": "09a70484",
   "metadata": {},
   "outputs": [],
   "source": [
    "from sklearn.cluster import KMeans\n",
    "from sklearn.model_selection import train_test_split\n",
    "from sklearn.decomposition import PCA"
   ]
  },
  {
   "cell_type": "code",
   "execution_count": 55,
   "id": "12ea485a",
   "metadata": {},
   "outputs": [],
   "source": [
    "train = a.drop(labels=['labels'], axis=1)\n",
    "labels = a['labels']"
   ]
  },
  {
   "cell_type": "code",
   "execution_count": 51,
   "id": "3e96b661",
   "metadata": {},
   "outputs": [],
   "source": [
    "kmeans = KMeans(n_clusters=4, random_state=100)"
   ]
  },
  {
   "cell_type": "code",
   "execution_count": 56,
   "id": "31cf2991",
   "metadata": {},
   "outputs": [],
   "source": [
    "X_train, X_test, Y_train, Y_test = train_test_split(train, labels, test_size=0.3)"
   ]
  },
  {
   "cell_type": "code",
   "execution_count": 59,
   "id": "a0767936",
   "metadata": {},
   "outputs": [
    {
     "data": {
      "text/plain": [
       "KMeans(n_clusters=4, random_state=100)"
      ]
     },
     "execution_count": 59,
     "metadata": {},
     "output_type": "execute_result"
    }
   ],
   "source": [
    "kmeans.fit(X_train)"
   ]
  },
  {
   "cell_type": "code",
   "execution_count": 60,
   "id": "964318df",
   "metadata": {},
   "outputs": [],
   "source": [
    "train_set = kmeans.predict(X_train)"
   ]
  },
  {
   "cell_type": "code",
   "execution_count": 65,
   "id": "932fecf0",
   "metadata": {},
   "outputs": [],
   "source": [
    "pca = PCA(n_components=2).fit(X_train)"
   ]
  },
  {
   "cell_type": "code",
   "execution_count": 66,
   "id": "db92e801",
   "metadata": {},
   "outputs": [],
   "source": [
    "pca_train = pca.transform(X_train)"
   ]
  },
  {
   "cell_type": "code",
   "execution_count": null,
   "id": "724631e6",
   "metadata": {},
   "outputs": [],
   "source": []
  }
 ],
 "metadata": {
  "kernelspec": {
   "display_name": "Python 3",
   "language": "python",
   "name": "python3"
  },
  "language_info": {
   "codemirror_mode": {
    "name": "ipython",
    "version": 3
   },
   "file_extension": ".py",
   "mimetype": "text/x-python",
   "name": "python",
   "nbconvert_exporter": "python",
   "pygments_lexer": "ipython3",
   "version": "3.8.1"
  }
 },
 "nbformat": 4,
 "nbformat_minor": 5
}
